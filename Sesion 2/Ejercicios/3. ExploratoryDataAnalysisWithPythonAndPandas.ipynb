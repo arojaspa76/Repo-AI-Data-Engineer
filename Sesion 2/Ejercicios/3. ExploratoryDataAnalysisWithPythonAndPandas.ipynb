{
 "cells": [
  {
   "cell_type": "markdown",
   "id": "fe14e125",
   "metadata": {},
   "source": [
    "Note: Exercise taken from the Fundamentals course of the PGP AIML at The University of Texas"
   ]
  },
  {
   "attachments": {
    "image.png": {
     "image/png": "[encoded data removed]"
    }
   },
   "cell_type": "markdown",
   "id": "490eaeff",
   "metadata": {},
   "source": [
    "![image.png](attachment:image.png)"
   ]
  },
  {
   "cell_type": "markdown",
   "id": "4992aa9f",
   "metadata": {},
   "source": [
    "### **Objective:**\n",
    "Explore the dataset to identify differences between the customers of each product. You can also explore relationships between the different attributes of the customers. You can approach it from any other line of questioning that you feel could be relevant for the business. The idea is to get you comfortable working in Python.\n",
    "\n",
    "### **Steps:**\n",
    "1. Come up with a customer profile (characteristics of a customer) of the different products\n",
    "2. Perform univariate and multivariate analyses\n",
    "3. Generate a set of insights and recommendations that will help the company in targeting new customers.\n",
    "\n",
    "### **Key Questions:**\n",
    "I would like to study the correlation between the treadmill model and the other columns in the dataset. To do that, my key question will be:\n",
    "\n",
    "1. Are there some correlation between the numerics (Age, Education, Usage, Fitness, Income, Miles) columns and the product name?\n",
    "2. What is the group of age of the customer that bought more products? it will be used to determine what model I can offer to the new customer depending on his/her age.\n",
    "3. What is marital status of the customer that bought more products? it will be used to determine what model I can offer to the new customer depending on his/her marital status.\n",
    "4. What is the high level education of the customer that bought more products?\n",
    "\n",
    "\n",
    "### **Data Description:**\n",
    "The data is about customers of the treadmill product(s) of a retail store called Cardio Good Fitness. It contains the following variables\n",
    "\n",
    "* Product: The model no. of the treadmill\n",
    "* Age: Age of the customer in no of years\n",
    "* Gender: Gender of the customer\n",
    "* Education: Education of the customer in no. of years\n",
    "* Marital Status: Marital status of the customer\n",
    "* Usage: Avg. # times the customer wants to use the treadmill every week\n",
    "* Fitness: Self rated fitness score of the customer (5 - very fit, 1 - very unfit\n",
    "* Income: Income of the customer\n",
    "* Miles: Miles that a customer expects to run"
   ]
  },
  {
   "cell_type": "markdown",
   "id": "685767fa",
   "metadata": {},
   "source": [
    "## **Importing the necessary libraries**"
   ]
  },
  {
   "cell_type": "code",
   "execution_count": null,
   "id": "dbf12fdc",
   "metadata": {},
   "outputs": [],
   "source": [
    "# Libraries to help with reading and manipulating data\n",
    "import numpy as np\n",
    "import pandas as pd\n",
    "\n",
    "# Libraries to help with data visualization\n",
    "import matplotlib.pyplot as plt\n",
    "import seaborn as sns\n",
    "\n",
    "# Command to tell Python to actually display the graphs\n",
    "%matplotlib inline\n",
    "\n",
    "#to display values upto 2 decimal places\n",
    "pd.set_option(\"display.float_format\", lambda x: \"%.2f\" % x)\n",
    "\n",
    "# Instruction from https://seaborn.pydata.org/generated/seaborn.countplot.html\n",
    "sns.set_theme(style=\"darkgrid\")"
   ]
  },
  {
   "cell_type": "markdown",
   "id": "4e266058",
   "metadata": {},
   "source": [
    "### **Loading the dataset**"
   ]
  },
  {
   "cell_type": "code",
   "execution_count": null,
   "id": "9d92c8f1",
   "metadata": {},
   "outputs": [],
   "source": [
    "# Reading the dataset\n",
    "data = pd.read_csv('../fuentes/3.CardioGoodFitness.csv')"
   ]
  },
  {
   "cell_type": "code",
   "execution_count": null,
   "id": "9302a6c2",
   "metadata": {},
   "outputs": [],
   "source": [
    "# copying data to another variable to avoid any changes to original data\n",
    "df = data.copy()"
   ]
  },
  {
   "cell_type": "markdown",
   "id": "c09426e4",
   "metadata": {},
   "source": [
    "### **Data Overview**\n",
    "\n",
    "The initial steps to get an overview of any dataset is to: \n",
    "- observe the first few rows of the dataset, to check whether the dataset has been loaded properly or not\n",
    "- get information about the number of rows and columns in the dataset\n",
    "- find out the data types of the columns to ensure that data is stored in the preferred format and the value of each property is as expected.\n",
    "- check the statistical summary of the dataset to get an overview of the numerical columns of the data"
   ]
  },
  {
   "cell_type": "markdown",
   "id": "f6d746de",
   "metadata": {},
   "source": [
    "#### **Displaying the first few rows of the dataset**"
   ]
  },
  {
   "cell_type": "code",
   "execution_count": null,
   "id": "5dd579c2",
   "metadata": {},
   "outputs": [],
   "source": [
    "# looking at head (5 observations) \n",
    "df.head()"
   ]
  },
  {
   "cell_type": "code",
   "execution_count": null,
   "id": "5a4d4eaa",
   "metadata": {},
   "outputs": [],
   "source": [
    "# looking at tail (5 observations) \n",
    "df.tail()"
   ]
  },
  {
   "cell_type": "markdown",
   "id": "2be8eb6c",
   "metadata": {},
   "source": [
    "<strong>Observation:</strong>\n",
    "\n",
    "- *The `Product` column contains the model name of the treadmill*\n",
    "- *The `Gender` column contains the gender of the customer that uses the treadmill* \n",
    "- *The `Marital Status` column contains the marital status of the customer* \n",
    "- *`Miles` and `Usage` are related to the product*\n",
    "- *The `Fitness` column indicates the customer's own rating*"
   ]
  },
  {
   "cell_type": "markdown",
   "id": "63739297",
   "metadata": {},
   "source": [
    "#### **Checking the shape of the dataset**"
   ]
  },
  {
   "cell_type": "code",
   "execution_count": null,
   "id": "b5375d62",
   "metadata": {},
   "outputs": [],
   "source": [
    "df.shape"
   ]
  },
  {
   "cell_type": "markdown",
   "id": "78e4a00f",
   "metadata": {},
   "source": [
    "<strong>Observation:</strong> <I>the dataset have 180 rows and 9 columns</I>"
   ]
  },
  {
   "cell_type": "markdown",
   "id": "eb867980",
   "metadata": {},
   "source": [
    "#### Checking the data types of the columns for the dataset"
   ]
  },
  {
   "cell_type": "code",
   "execution_count": null,
   "id": "a04e582a",
   "metadata": {},
   "outputs": [],
   "source": [
    "df.info()"
   ]
  },
  {
   "cell_type": "markdown",
   "id": "f5caed89",
   "metadata": {},
   "source": [
    "<strong>Observation:</strong>\n",
    "\n",
    "- *According to the table, all the columns have 180 observations*\n",
    "- *According to the table, No missing values were found, It'll be investigated later*\n",
    "- *The object type columns contain categories in them, the data type will be changed later*"
   ]
  },
  {
   "cell_type": "markdown",
   "id": "5190fff0",
   "metadata": {},
   "source": [
    "#### **Getting the statistical summary for the dataset**"
   ]
  },
  {
   "cell_type": "code",
   "execution_count": null,
   "id": "07c3408b",
   "metadata": {},
   "outputs": [],
   "source": [
    "df.describe().T"
   ]
  },
  {
   "cell_type": "code",
   "execution_count": null,
   "id": "37b97f92",
   "metadata": {},
   "outputs": [],
   "source": [
    "df.describe(include='all').T"
   ]
  },
  {
   "cell_type": "markdown",
   "id": "1303a364",
   "metadata": {},
   "source": [
    "<strong>Observation:</strong>\n",
    "- *The customer age is in the ranage of 18 to 50*\n",
    "- *The min/max values from fitness are from 1-5*\n",
    "- *The product usage days go from 2 to 7 days in a week*\n",
    "- *The range of the education column varies from 12 to 21.*\n",
    "- *We can found customer with a good income*"
   ]
  },
  {
   "cell_type": "markdown",
   "id": "fc44bdb7",
   "metadata": {},
   "source": [
    "**Let's check the count of each unique category in each of the categorical/object type variables.**"
   ]
  },
  {
   "cell_type": "code",
   "execution_count": null,
   "id": "6f7b485d",
   "metadata": {},
   "outputs": [],
   "source": [
    "df['Product'].unique()"
   ]
  },
  {
   "cell_type": "markdown",
   "id": "dbc33c22",
   "metadata": {},
   "source": [
    "<strong>Observation:</strong>\n",
    "\n",
    "- *We can observe that there are 3 unique products present in the dataset of the retail store Cardio Good Fitness*"
   ]
  },
  {
   "cell_type": "code",
   "execution_count": null,
   "id": "2574be2a",
   "metadata": {},
   "outputs": [],
   "source": [
    "df['Product'].value_counts(normalize=True)"
   ]
  },
  {
   "cell_type": "markdown",
   "id": "954d3f67",
   "metadata": {},
   "source": [
    "<strong>Observation:</strong>\n",
    "\n",
    "- *Around 44% of the observations are from the TM195 Product, it is almost 50% of the products sold.*"
   ]
  },
  {
   "cell_type": "code",
   "execution_count": null,
   "id": "18f15ba3",
   "metadata": {},
   "outputs": [],
   "source": [
    "df['Gender'].unique()"
   ]
  },
  {
   "cell_type": "markdown",
   "id": "826effb0",
   "metadata": {},
   "source": [
    "<strong>Observation:</strong>\n",
    "\n",
    "- *We can observe that there are 2 unique Gender present in the dataset of the retail store Cardio Good Fitness*"
   ]
  },
  {
   "cell_type": "code",
   "execution_count": null,
   "id": "205f623a",
   "metadata": {},
   "outputs": [],
   "source": [
    "df['Gender'].value_counts(normalize=True)"
   ]
  },
  {
   "cell_type": "markdown",
   "id": "0a5bd529",
   "metadata": {},
   "source": [
    "<strong>Observation:</strong>\n",
    "\n",
    "- *The number of Male observations is much more than Female observations*\n",
    "- *Around 58% of the observations are from Male*"
   ]
  },
  {
   "cell_type": "code",
   "execution_count": null,
   "id": "30771418",
   "metadata": {},
   "outputs": [],
   "source": [
    "df['MaritalStatus'].unique()"
   ]
  },
  {
   "cell_type": "markdown",
   "id": "620322a1",
   "metadata": {},
   "source": [
    "<strong>Observation:</strong>\n",
    "\n",
    "- *We can observe that there are 2 unique kinds of the marital status present in the dataset of the retail store Cardio Good Fitness*"
   ]
  },
  {
   "cell_type": "code",
   "execution_count": null,
   "id": "8a4477fd",
   "metadata": {},
   "outputs": [],
   "source": [
    "df['MaritalStatus'].value_counts(normalize=True)"
   ]
  },
  {
   "cell_type": "markdown",
   "id": "da3959c0",
   "metadata": {},
   "source": [
    "<strong>Observation:</strong>\n",
    "\n",
    "- *The number of Partnered observations is much more than single observations*\n",
    "- *Around 59% of the observations are from Partnered*"
   ]
  },
  {
   "cell_type": "markdown",
   "id": "d51c4fc5",
   "metadata": {},
   "source": [
    "### **Missing value treatment**"
   ]
  },
  {
   "cell_type": "markdown",
   "id": "4c989be0",
   "metadata": {},
   "source": [
    "One of the commonly used method to deal with the missing values is to impute them with the central tendencies - mean, median, and mode of a column.\n",
    "\n",
    "* `Replacing with mean`: In this method the missing values are imputed with the mean of the column. Mean gets impacted by the presence of outliers, and in such cases where the column has outliers using this method may lead to erroneous imputations. \n",
    "\n",
    "* `Replacing with median`: In this method the missing values are imputed with the median of the column. In cases where the column has outliers, median is an appropriate measure of central tendency to deal with the missing values over mean.\n",
    "\n",
    "* `Replacing with mode`: In this method the missing values are imputed with the mode of the column. This method is generally preferred with categorical data."
   ]
  },
  {
   "cell_type": "markdown",
   "id": "fb3a65ad",
   "metadata": {},
   "source": [
    "Checking how many missing values are present in each variable."
   ]
  },
  {
   "cell_type": "code",
   "execution_count": null,
   "id": "fda334c5",
   "metadata": {},
   "outputs": [],
   "source": [
    "# checking missing values across each columns\n",
    "df.isnull().sum()"
   ]
  },
  {
   "cell_type": "markdown",
   "id": "30f0574f",
   "metadata": {},
   "source": [
    "<strong>Observation:</strong>\n",
    "\n",
    "- *There are no missing values in variables*"
   ]
  },
  {
   "cell_type": "markdown",
   "id": "f4d9f58a",
   "metadata": {},
   "source": [
    "## **Exploratory Data Analysis**\n",
    "\n",
    "### **Univariate Analysis**\n",
    "\n",
    "**Numerical variables.**<br>\n",
    "[Age, Education, Usage, Fitness, Income, Miles]"
   ]
  },
  {
   "cell_type": "code",
   "execution_count": null,
   "id": "3f0b47c0",
   "metadata": {},
   "outputs": [],
   "source": [
    "# Defining the function for creating boxplot and hisogram\n",
    "# Function has taken from Week 3 - Uber Case Study\n",
    "\n",
    "def histogram_boxplot(data, feature, figsize=(12, 7), kde=False, bins=None):\n",
    "    \"\"\"\n",
    "    Boxplot and histogram combined\n",
    "\n",
    "    data: dataframe\n",
    "    feature: dataframe column\n",
    "    figsize: size of figure (default (12,7))\n",
    "    kde: whether to show the density curve (default False)\n",
    "    bins: number of bins for histogram (default None)\n",
    "    \"\"\"\n",
    "    f2, (ax_box2, ax_hist2) = plt.subplots(\n",
    "        nrows=2,  # Number of rows of the subplot grid= 2\n",
    "        sharex=True,  # x-axis will be shared among all subplots\n",
    "        gridspec_kw={\"height_ratios\": (0.25, 0.75)},\n",
    "        figsize=figsize)  # creating the 2 subplots\n",
    "    \n",
    "    sns.boxplot(data=data, x=feature, ax=ax_box2, showmeans=True, color=\"mediumturquoise\")  # boxplot will be created and a star will indicate the mean value of the column\n",
    "    \n",
    "    if bins:\n",
    "      sns.histplot(data=data, x=feature, kde=kde, ax=ax_hist2, bins=bins, color=\"mediumpurple\")\n",
    "    else: \n",
    "      sns.histplot(data=data, x=feature, kde=kde, ax=ax_hist2, color=\"mediumpurple\")  # For histogram\n",
    "    \n",
    "    ax_hist2.axvline(data[feature].mean(), color=\"green\", linestyle=\"--\")  # Add mean to the histogram\n",
    "    \n",
    "    ax_hist2.axvline(data[feature].median(), color=\"black\", linestyle=\"-\")  # Add median to the histogram"
   ]
  },
  {
   "cell_type": "markdown",
   "id": "7f05ecce",
   "metadata": {},
   "source": [
    "**Analyzing of the Age Column**"
   ]
  },
  {
   "cell_type": "code",
   "execution_count": null,
   "id": "97a7c997",
   "metadata": {},
   "outputs": [],
   "source": [
    "df['Age'].mean()"
   ]
  },
  {
   "cell_type": "code",
   "execution_count": null,
   "id": "8cd91431",
   "metadata": {},
   "outputs": [],
   "source": [
    "df['Age'].median()"
   ]
  },
  {
   "cell_type": "code",
   "execution_count": null,
   "id": "516d3e80",
   "metadata": {},
   "outputs": [],
   "source": [
    "histogram_boxplot(df,'Age')"
   ]
  },
  {
   "cell_type": "markdown",
   "id": "0816fec4",
   "metadata": {},
   "source": [
    "<strong>Observation:</strong>\n",
    "\n",
    "- *The distribution of Age is right skewed*\n",
    "- *Customer buying more products are young and the average of the Age is 28 years old.*\n",
    "- *There are a some outliers in this variable*\n",
    "- *The median of the age is 26*\n",
    "- *Customers over 40 are buying fewer products on the store*"
   ]
  },
  {
   "cell_type": "markdown",
   "id": "3a2a2558",
   "metadata": {},
   "source": [
    "**Analyzing of the Education Column**"
   ]
  },
  {
   "cell_type": "code",
   "execution_count": null,
   "id": "cd5d9871",
   "metadata": {},
   "outputs": [],
   "source": [
    "df['Education'].mean()"
   ]
  },
  {
   "cell_type": "code",
   "execution_count": null,
   "id": "837985cc",
   "metadata": {},
   "outputs": [],
   "source": [
    "df['Education'].median()"
   ]
  },
  {
   "cell_type": "code",
   "execution_count": null,
   "id": "470c5635",
   "metadata": {},
   "outputs": [],
   "source": [
    "histogram_boxplot(df,'Education')"
   ]
  },
  {
   "cell_type": "markdown",
   "id": "90df041b",
   "metadata": {},
   "source": [
    "<strong>Observation:</strong>\n",
    "\n",
    "- *There are a some outliers in this variable*\n",
    "- *The education's average of the curstomer is 16*"
   ]
  },
  {
   "cell_type": "markdown",
   "id": "6d9d35bd",
   "metadata": {},
   "source": [
    "**Analyzing of the Usage Column**"
   ]
  },
  {
   "cell_type": "code",
   "execution_count": null,
   "id": "e7a4136a",
   "metadata": {},
   "outputs": [],
   "source": [
    "df['Usage'].mean()"
   ]
  },
  {
   "cell_type": "code",
   "execution_count": null,
   "id": "a7b62801",
   "metadata": {},
   "outputs": [],
   "source": [
    "df['Usage'].median()"
   ]
  },
  {
   "cell_type": "code",
   "execution_count": null,
   "id": "219186b6",
   "metadata": {},
   "outputs": [],
   "source": [
    "histogram_boxplot(df,'Usage')"
   ]
  },
  {
   "cell_type": "markdown",
   "id": "59038f72",
   "metadata": {},
   "source": [
    "<strong>Observation:</strong>\n",
    "\n",
    "- *There are a some outliers in this variable*\n",
    "- *The products bought by customers are being used at least 3 o 4 days in the week*\n",
    "- *The average of the Usage is 3.5 days in the week*"
   ]
  },
  {
   "cell_type": "markdown",
   "id": "fad41ace",
   "metadata": {},
   "source": [
    "**Analyzing of the Fitness Column**"
   ]
  },
  {
   "cell_type": "code",
   "execution_count": null,
   "id": "ba6d8fe1",
   "metadata": {},
   "outputs": [],
   "source": [
    "df['Fitness'].mean()"
   ]
  },
  {
   "cell_type": "code",
   "execution_count": null,
   "id": "06cdca53",
   "metadata": {},
   "outputs": [],
   "source": [
    "df['Fitness'].median()"
   ]
  },
  {
   "cell_type": "code",
   "execution_count": null,
   "id": "87facbe7",
   "metadata": {},
   "outputs": [],
   "source": [
    "histogram_boxplot(df,'Fitness')"
   ]
  },
  {
   "cell_type": "markdown",
   "id": "5d752739",
   "metadata": {},
   "source": [
    "<strong>Observation:</strong>\n",
    "\n",
    "- *There are a some outliers towards the left in this variable*\n",
    "- *The products bought by customers are being rated with at least 3 points of Fitness*\n",
    "- *The average of the Fitness is 3 stars*"
   ]
  },
  {
   "cell_type": "markdown",
   "id": "7026c416",
   "metadata": {},
   "source": [
    "**Analyzing of the Income Column**"
   ]
  },
  {
   "cell_type": "code",
   "execution_count": null,
   "id": "7f35f371",
   "metadata": {},
   "outputs": [],
   "source": [
    "df['Income'].mean()"
   ]
  },
  {
   "cell_type": "code",
   "execution_count": null,
   "id": "fe336665",
   "metadata": {},
   "outputs": [],
   "source": [
    "df['Income'].median()"
   ]
  },
  {
   "cell_type": "code",
   "execution_count": null,
   "id": "9da71bba",
   "metadata": {},
   "outputs": [],
   "source": [
    "histogram_boxplot(df,'Income')"
   ]
  },
  {
   "cell_type": "markdown",
   "id": "606abb80",
   "metadata": {},
   "source": [
    "<strong>Observation:</strong>\n",
    "\n",
    "- *The distribution of Income is right skewed*\n",
    "- *Customers buying more products have an income average of US53.000.*\n",
    "- *There are a some outliers towards the right in this variable*\n",
    "- *The median of the income is US50.000*\n",
    "- *Customers with more acquisition power are buying fewer products in the store*"
   ]
  },
  {
   "cell_type": "markdown",
   "id": "531bb0f1",
   "metadata": {},
   "source": [
    "**Analyzing of the Miles Column**"
   ]
  },
  {
   "cell_type": "code",
   "execution_count": null,
   "id": "dd3feeb0",
   "metadata": {},
   "outputs": [],
   "source": [
    "df['Miles'].mean()"
   ]
  },
  {
   "cell_type": "code",
   "execution_count": null,
   "id": "a0ab6be7",
   "metadata": {},
   "outputs": [],
   "source": [
    "df['Miles'].median()"
   ]
  },
  {
   "cell_type": "code",
   "execution_count": null,
   "id": "f5c141a0",
   "metadata": {},
   "outputs": [],
   "source": [
    "histogram_boxplot(df,'Miles')"
   ]
  },
  {
   "cell_type": "markdown",
   "id": "f9bd61a1",
   "metadata": {},
   "source": [
    "<strong>Observation:</strong>\n",
    "\n",
    "- *The distribution of Miles is highly right skewed*\n",
    "- *Customers buying more products expected to run an average of 100 miles*\n",
    "- *There are a some outliers towards the right in this variable*\n",
    "- *The median of the Miles is 94*"
   ]
  },
  {
   "cell_type": "markdown",
   "id": "5a532407",
   "metadata": {},
   "source": [
    "**Categorical variables**<br>\n",
    "[Product, Gender, MaritalStatus]"
   ]
  },
  {
   "cell_type": "markdown",
   "id": "6c75d2ee",
   "metadata": {},
   "source": [
    "**Analyzing of the Product Column**"
   ]
  },
  {
   "cell_type": "code",
   "execution_count": null,
   "id": "04e18307",
   "metadata": {
    "scrolled": true
   },
   "outputs": [],
   "source": [
    "sns.countplot(data=df,x='Product').set_title(\"Product Name\");\n",
    "plt.xticks(rotation = 45);"
   ]
  },
  {
   "cell_type": "markdown",
   "id": "3f7c75f3",
   "metadata": {},
   "source": [
    "<strong>Observation:</strong>\n",
    "\n",
    "- *The number of products observations is more on TM195 than others, with which it is concluded that it is the best seller in the store*"
   ]
  },
  {
   "cell_type": "markdown",
   "id": "772a5da1",
   "metadata": {},
   "source": [
    "**Analyzing of the Gender Column**"
   ]
  },
  {
   "cell_type": "code",
   "execution_count": null,
   "id": "fcfc11d7",
   "metadata": {
    "scrolled": true
   },
   "outputs": [],
   "source": [
    "sns.countplot(data=df,x='Gender').set_title(\"Gender Category\");\n",
    "plt.xticks(rotation = 45);"
   ]
  },
  {
   "cell_type": "markdown",
   "id": "2abe862b",
   "metadata": {},
   "source": [
    "<strong>Observation:</strong>\n",
    "\n",
    "- *The number of products observations is more in Males than Females, with which it is concluded that there are more Males buying products in the store than Females*"
   ]
  },
  {
   "cell_type": "markdown",
   "id": "ba507b37",
   "metadata": {},
   "source": [
    "**Analyzing of the MaritalStatus Column**"
   ]
  },
  {
   "cell_type": "code",
   "execution_count": null,
   "id": "6cb48686",
   "metadata": {
    "scrolled": true
   },
   "outputs": [],
   "source": [
    "sns.countplot(data=df,x='MaritalStatus').set_title(\"Marital Status Category\");\n",
    "plt.xticks(rotation = 45);"
   ]
  },
  {
   "cell_type": "markdown",
   "id": "e5c5a785",
   "metadata": {},
   "source": [
    "<strong>Observation:</strong>\n",
    "\n",
    "- *The number of products observations is more in married customer than Single, with which it is concluded that there are more married customer buying products in the store than Single*"
   ]
  },
  {
   "cell_type": "markdown",
   "id": "ceb949f9",
   "metadata": {},
   "source": [
    "### **Bivariate Analysis**\n",
    "\n",
    "**Correlation by Heatmap**"
   ]
  },
  {
   "cell_type": "code",
   "execution_count": null,
   "id": "c3d25b61",
   "metadata": {},
   "outputs": [],
   "source": [
    "# Check for correlation among numerical variables\n",
    "num_var = ['Age', 'Education', 'Usage', 'Fitness', 'Income', 'Miles']\n",
    "\n",
    "corr = df[num_var].corr()\n",
    "\n",
    "# plot the heatmap\n",
    "\n",
    "plt.figure(figsize=(15, 7))\n",
    "sns.heatmap(corr, annot=True, vmin=-1, vmax=1, fmt=\".2f\", cmap=\"Spectral\")\n",
    "plt.show()"
   ]
  },
  {
   "cell_type": "markdown",
   "id": "b79e7bd0",
   "metadata": {},
   "source": [
    "<strong>Observation:</strong>\n",
    "\n",
    "- *Age and Income show a medium correlation*\n",
    "- *Education and Income show a high correlation*\n",
    "- *Usage and Fitness show a high correlation*\n",
    "- *Usage and Income show a medium correlation*\n",
    "- *Fitness and Income show a medium correlation*\n",
    "- *Income and Miles show a medium correlation*\n",
    "- *As expected, Miles shows high correlation with Usage and Fitness*\n",
    "- *It is important to note that correlation does not imply causation*"
   ]
  },
  {
   "cell_type": "markdown",
   "id": "ae847f89",
   "metadata": {},
   "source": [
    "#### **Bivariate Scatter Plots**"
   ]
  },
  {
   "cell_type": "code",
   "execution_count": null,
   "id": "8a03726d",
   "metadata": {},
   "outputs": [],
   "source": [
    "sns.pairplot(data=df[num_var], diag_kind=\"kde\")\n",
    "plt.show()"
   ]
  },
  {
   "cell_type": "markdown",
   "id": "2ca049a4",
   "metadata": {},
   "source": [
    "<strong>Observation:</strong>\n",
    "\n",
    "- *We get the same insights as from the correlation plot*"
   ]
  },
  {
   "cell_type": "markdown",
   "id": "2400dc16",
   "metadata": {},
   "source": [
    "**Numeric variables correlation data**"
   ]
  },
  {
   "cell_type": "code",
   "execution_count": null,
   "id": "82c33539",
   "metadata": {},
   "outputs": [],
   "source": [
    "df[num_var].corr()"
   ]
  },
  {
   "cell_type": "markdown",
   "id": "64128901",
   "metadata": {},
   "source": [
    "#### Are there some correlation between the numerics (Age, Education, Usage, Fitness, Income, Miles) columns and the product name?\n",
    "\n",
    "Let's see"
   ]
  },
  {
   "cell_type": "code",
   "execution_count": null,
   "id": "492e90bf",
   "metadata": {},
   "outputs": [],
   "source": [
    "# Mean of the customer Age buying a Product.\n",
    "df.groupby(['Product'])['Age'].mean()"
   ]
  },
  {
   "cell_type": "code",
   "execution_count": null,
   "id": "a144754b",
   "metadata": {},
   "outputs": [],
   "source": [
    "# Mean of the customer Education buying a Product.\n",
    "df.groupby(['Product'])['Education'].mean()"
   ]
  },
  {
   "cell_type": "code",
   "execution_count": null,
   "id": "8939ea83",
   "metadata": {},
   "outputs": [],
   "source": [
    "# Mean of the customer Usage buying a Product.\n",
    "df.groupby(['Product'])['Usage'].mean()"
   ]
  },
  {
   "cell_type": "code",
   "execution_count": null,
   "id": "cf2fda6d",
   "metadata": {},
   "outputs": [],
   "source": [
    "# Mean of the customer Age buying a Product.\n",
    "df.groupby(['Product'])['Fitness'].mean()"
   ]
  },
  {
   "cell_type": "code",
   "execution_count": null,
   "id": "cb003eaa",
   "metadata": {},
   "outputs": [],
   "source": [
    "# Mean of the customer Education buying a Product.\n",
    "df.groupby(['Product'])['Income'].mean()"
   ]
  },
  {
   "cell_type": "code",
   "execution_count": null,
   "id": "0a115708",
   "metadata": {},
   "outputs": [],
   "source": [
    "# Mean of the customer Usage buying a Product.\n",
    "df.groupby(['Product'])['Miles'].mean()"
   ]
  },
  {
   "cell_type": "markdown",
   "id": "0be42a28",
   "metadata": {},
   "source": [
    "<strong>Observation:</strong>\n",
    "\n",
    "- *As we can see, the TM798 product is correlated with all numerics variables (Age, Education, Usage, Fitness, Income, Miles)*"
   ]
  },
  {
   "cell_type": "markdown",
   "id": "bd0f4ab0",
   "metadata": {},
   "source": [
    "**Check All numeric variables vs MaritalStatus**"
   ]
  },
  {
   "cell_type": "code",
   "execution_count": null,
   "id": "9cd39b74",
   "metadata": {},
   "outputs": [],
   "source": [
    "# Age, Education, Usage, Fitness, Income, Miles\n",
    "numeric_columns = ['Age','Education','Usage','Fitness','Income', 'Miles']\n",
    "\n",
    "# Function has taken from https://stackoverflow.com/questions/49690316/pandas-boxplots-as-subplots-with-individual-y-axis\n",
    "# Answer 1 and week 3 - Hands on Notebook ExploratoryDataAnalysis\n",
    "\n",
    "fig, axes = plt.subplots(2,3,figsize=(15, 12)) # create figure and axes\n",
    "\n",
    "for i, el in enumerate(numeric_columns):\n",
    "    sns.boxplot(data=df,x=el,y='MaritalStatus',ax=axes.flatten()[i]).set(title='Marital Status vs ' + numeric_columns[i])\n",
    "\n",
    "plt.tight_layout();\n",
    "plt.show();"
   ]
  },
  {
   "cell_type": "code",
   "execution_count": null,
   "id": "709bb55a",
   "metadata": {},
   "outputs": [],
   "source": [
    "sns.countplot(data=df,x='Product', hue='MaritalStatus').set_title(\"Produc by Marital Status Category\");\n",
    "plt.xticks(rotation = 45);\n",
    "plt.ylabel('Marital Status Total');"
   ]
  },
  {
   "cell_type": "markdown",
   "id": "26f2f549",
   "metadata": {},
   "source": [
    "**Check All numeric variables vs Product**"
   ]
  },
  {
   "cell_type": "code",
   "execution_count": null,
   "id": "520c77e0",
   "metadata": {},
   "outputs": [],
   "source": [
    "# Age, Education, Usage, Fitness, Income, Miles\n",
    "numeric_columns = ['Age','Education','Usage','Fitness','Income', 'Miles']\n",
    "\n",
    "# Function has taken from https://stackoverflow.com/questions/49690316/pandas-boxplots-as-subplots-with-individual-y-axis\n",
    "# Answer 1 and week 3 - Hands on Notebook ExploratoryDataAnalysis\n",
    "\n",
    "fig, axes = plt.subplots(2,3,figsize=(15, 12)) # create figure and axes\n",
    "\n",
    "for i, el in enumerate(numeric_columns):\n",
    "    sns.boxplot(data=df,x=el,y='Product',ax=axes.flatten()[i]).set(title='Product vs ' + numeric_columns[i])\n",
    "\n",
    "plt.tight_layout();\n",
    "plt.show();"
   ]
  },
  {
   "cell_type": "markdown",
   "id": "0ce4206b",
   "metadata": {},
   "source": [
    "**Check All numeric variables vs Gender**"
   ]
  },
  {
   "cell_type": "code",
   "execution_count": null,
   "id": "3a80fcc4",
   "metadata": {},
   "outputs": [],
   "source": [
    "# Age, Education, Usage, Fitness, Income, Miles\n",
    "numeric_columns = ['Age','Education','Usage','Fitness','Income', 'Miles']\n",
    "\n",
    "# Function has taken from https://stackoverflow.com/questions/49690316/pandas-boxplots-as-subplots-with-individual-y-axis\n",
    "# Answer 1 and week 3 - Hands on Notebook ExploratoryDataAnalysis\n",
    "\n",
    "fig, axes = plt.subplots(2,3,figsize=(15, 12)) # create figure and axes\n",
    "\n",
    "for i, el in enumerate(numeric_columns):\n",
    "    sns.boxplot(data=df,x=el,y='Gender',ax=axes.flatten()[i]).set(title='Gender vs ' + numeric_columns[i])\n",
    "\n",
    "plt.tight_layout();\n",
    "plt.show();"
   ]
  },
  {
   "cell_type": "code",
   "execution_count": null,
   "id": "95ff4d6b",
   "metadata": {},
   "outputs": [],
   "source": [
    "sns.countplot(data=df,x='Product', hue='Gender').set_title(\"Produc by Gender Category\");\n",
    "plt.xticks(rotation = 45);\n",
    "plt.ylabel('Gender Total');"
   ]
  },
  {
   "cell_type": "markdown",
   "id": "cb728dbf",
   "metadata": {},
   "source": [
    "#### What is the group of age of the customer that bought more products? it will be used to determine what model I can offer to the new customer depending on his/her age."
   ]
  },
  {
   "cell_type": "code",
   "execution_count": null,
   "id": "a582a154",
   "metadata": {},
   "outputs": [],
   "source": [
    "df.groupby(['Product','Age'])['Age'].count().sort_values(ascending=False)"
   ]
  },
  {
   "cell_type": "markdown",
   "id": "cafc1cf3",
   "metadata": {},
   "source": [
    "<strong>Observation:</strong>\n",
    "\n",
    "- *As we can see, the group of the age of the customer that bought more products is \"25\". The most purchased product is TM498*"
   ]
  },
  {
   "cell_type": "markdown",
   "id": "5d823e79",
   "metadata": {},
   "source": [
    "#### What is marital status of the customer that bought more products? it will be used to determine what model I can offer to the new customer depending on his/her marital status.\n"
   ]
  },
  {
   "cell_type": "code",
   "execution_count": null,
   "id": "e5b6f6ae",
   "metadata": {},
   "outputs": [],
   "source": [
    "df.groupby(['Product','MaritalStatus'])['MaritalStatus'].count().sort_values(ascending=False)"
   ]
  },
  {
   "cell_type": "markdown",
   "id": "3edeed42",
   "metadata": {},
   "source": [
    "<strong>Observation:</strong>\n",
    "\n",
    "- *As we can see, the Marital Status of the customer that bought more products is \"Partnered\" or \"Married\". The most purchased product is TM195*"
   ]
  },
  {
   "cell_type": "markdown",
   "id": "e107252a",
   "metadata": {},
   "source": [
    "#### What is the high level education of the customer that bought more products?"
   ]
  },
  {
   "cell_type": "code",
   "execution_count": null,
   "id": "74a90545",
   "metadata": {},
   "outputs": [],
   "source": [
    "df.groupby(['Product','Education'])['Education'].count().sort_values(ascending=False)"
   ]
  },
  {
   "cell_type": "markdown",
   "id": "a1c36fe0",
   "metadata": {},
   "source": [
    "<strong>Observation:</strong>\n",
    "\n",
    "- *As we can see, the high level education of the customer that bought more products is \"16\". The most purchased product is TM195*\n",
    "- *This level could be indicate that the customer can be finishing the college or university*"
   ]
  },
  {
   "cell_type": "markdown",
   "id": "baaec2ae",
   "metadata": {},
   "source": [
    "### **Multivariate Analysis**"
   ]
  },
  {
   "cell_type": "code",
   "execution_count": null,
   "id": "6f407e28",
   "metadata": {},
   "outputs": [],
   "source": [
    "# compare Education, Usage, Fitness, Income with categories product and MaritalStatus\n",
    "sns.catplot(x='Education', y='Income', data=df, kind=\"bar\", hue='Product', col='MaritalStatus')\n",
    "plt.xticks(rotation=90)\n",
    "plt.show()"
   ]
  },
  {
   "cell_type": "code",
   "execution_count": null,
   "id": "9c6aea2a",
   "metadata": {},
   "outputs": [],
   "source": [
    "# compare Education, Usage, Fitness, Income with categories product and MaritalStatus\n",
    "sns.catplot(x='Usage', y='Income', data=df, kind=\"bar\", hue='Product', col='MaritalStatus')\n",
    "plt.xticks(rotation=90)\n",
    "plt.show()"
   ]
  },
  {
   "cell_type": "code",
   "execution_count": null,
   "id": "c86c8292",
   "metadata": {},
   "outputs": [],
   "source": [
    "# compare Education, Usage, Fitness, Income with categories product and MaritalStatus\n",
    "sns.catplot(x='Fitness', y='Income', data=df, kind=\"bar\", hue='Product', col='MaritalStatus')\n",
    "plt.xticks(rotation=90)\n",
    "plt.show()"
   ]
  },
  {
   "cell_type": "code",
   "execution_count": null,
   "id": "d3d33225",
   "metadata": {},
   "outputs": [],
   "source": [
    "# compare Education, Usage, Fitness, Income with categories product and Gender\n",
    "sns.catplot(x='Education', y='Income', data=df, kind=\"bar\", hue='Product', col='Gender')\n",
    "plt.xticks(rotation=90)\n",
    "plt.show()"
   ]
  },
  {
   "cell_type": "code",
   "execution_count": null,
   "id": "e20b7d3a",
   "metadata": {},
   "outputs": [],
   "source": [
    "# compare Education, Usage, Fitness, Income with categories product and Gender\n",
    "sns.catplot(x='Usage', y='Income', data=df, kind=\"bar\", hue='Product', col='Gender')\n",
    "plt.xticks(rotation=90)\n",
    "plt.show()"
   ]
  },
  {
   "cell_type": "code",
   "execution_count": null,
   "id": "02aff646",
   "metadata": {},
   "outputs": [],
   "source": [
    "# compare Education, Usage, Fitness, Income with categories product and Gender\n",
    "sns.catplot(x='Fitness', y='Income', data=df, kind=\"bar\", hue='Product', col='Gender')\n",
    "plt.xticks(rotation=90)\n",
    "plt.show()"
   ]
  },
  {
   "cell_type": "code",
   "execution_count": null,
   "id": "a00b5313",
   "metadata": {},
   "outputs": [],
   "source": [
    "# compare Education, Usage, Fitness, Income with categories product and Gender\n",
    "sns.catplot(x='Usage', y='Age', data=df, kind=\"bar\", hue='Product', col='Gender')\n",
    "plt.xticks(rotation=90)\n",
    "plt.show()"
   ]
  },
  {
   "cell_type": "markdown",
   "id": "6dd47b6a",
   "metadata": {},
   "source": [
    "### **Actionable Insights and Recommendations**"
   ]
  },
  {
   "cell_type": "markdown",
   "id": "6587be26",
   "metadata": {},
   "source": [
    "#### **Insights**\n",
    "\n",
    "I have been able to conclude that -  \n",
    "- *Around 44% of the observations are from the TM195 Product, it is almost 50% of the products sold.*\n",
    "- *We can observe that there are 2 unique Gender present in the dataset of the retail store Cardio Good Fitness*\n",
    "- *The number of Male observations is much more than Female observations*\n",
    "- *Around 58% of the observations are from Male*\n",
    "- *The products bought by customers are being used at least 3 o 4 days in the week*\n",
    "- *The average of the Usage is 3.5 days in the week*\n",
    "- *The education's average of the curstomer is 16*\n",
    "- *The products bought by customers are being rated with at least 3 points of Fitness*\n",
    "- *The average of the Fitness is 3 stars*\n",
    "- *Customers buying more products have an income average of US53.000.*\n",
    "- *Customers with more acquisition power are buying fewer products in the store*\n",
    "- *Customers buying more products expected to run an average of 100 miles*\n",
    "- *The number of products observations is more on TM195 than others, with which it is concluded that it is the best seller in the store*\n",
    "- *The number of products observations is more in Males than Females, with which it is concluded that there are more Males buying products in the store than Females*\n",
    "- *The number of products observations is more in married customer than Single, with which it is concluded that there are more married customer buying products in the store than Single*\n",
    "- *Age and Income show a medium correlation*\n",
    "- *Education and Income show a high correlation*\n",
    "- *Usage and Fitness show a high correlation*\n",
    "- *Usage and Income show a medium correlation*\n",
    "- *Fitness and Income show a medium correlation*\n",
    "- *Income and Miles show a medium correlation*\n",
    "- *As expected, Miles shows high correlation with Usage and Fitness*\n",
    "- *It is important to note that correlation does not imply causation*\n",
    "- *The TM798 product is correlated with all numerics variables (Age, Education, Usage, Fitness, Income, Miles)*\n",
    "- *The group of the age of the customer that bought more products is \"25\". The most purchased product is TM498*\n",
    "- *The Marital Status of the customer that bought more products is \"Partnered\" or \"Married\". The most purchased product is TM195*\n",
    "- *The high level education of the customer that bought more products is \"16\". The most purchased product is TM195*\n",
    "- *This level could be indicate that the customer can be finishing the college or university*\n",
    "\n",
    "\n",
    "#### **Recommendations to business**\n",
    "\n",
    "- Older people, who have better incomes, are the ones who are buying the TM798 product, apparently, they find it more appealing, perhaps because it costs more and they can afford it. Due to this, if the company wants to position this product among young people, it must carry out a marketing strategy that focuses on the product. Additionally, a cost strategy for this product should be reviewed.\n",
    "\n",
    "- According to the information analysed, married people with more experience, especially men, are the ones who invest the most in the TM798 product. If you want women to see this product in a more attractive way, you should review a cost and marketing strategy that allows you to reach them.\n",
    "\n",
    "- It is necessary to promote the sale of the other products TM498 and TM798 within the current average age range. Although it is true that the TM195 is the product that is currently bought by both women and men alike, the TM498 and TM798 should start to be marketed. We must create a positioning campaign for these products so that they can reach the average number of people who buy in the store."
   ]
  }
 ],
 "metadata": {
  "kernelspec": {
   "display_name": "tssdev (3.12.7)",
   "language": "python",
   "name": "python3"
  },
  "language_info": {
   "codemirror_mode": {
    "name": "ipython",
    "version": 3
   },
   "file_extension": ".py",
   "mimetype": "text/x-python",
   "name": "python",
   "nbconvert_exporter": "python",
   "pygments_lexer": "ipython3",
   "version": "3.12.7"
  }
 },
 "nbformat": 4,
 "nbformat_minor": 5
}
