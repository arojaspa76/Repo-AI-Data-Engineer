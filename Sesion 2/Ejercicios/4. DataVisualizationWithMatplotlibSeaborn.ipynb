{
 "cells": [
  {
   "cell_type": "markdown",
   "id": "be66e473",
   "metadata": {},
   "source": [
    "Note: Exercise taken from the Andrés Felipe Rojas Parra Github user arojaspa76  \n",
    "https://github.com/arojaspa76/AI-Fundamentals-Bootcamp"
   ]
  },
  {
   "attachments": {
    "image.png": {
     "image/png": "[encoded data removed]"
    }
   },
   "cell_type": "markdown",
   "id": "c4d36ca1",
   "metadata": {},
   "source": [
    "![image.png](attachment:image.png)"
   ]
  },
  {
   "cell_type": "markdown",
   "id": "e7c45e15",
   "metadata": {},
   "source": [
    "# 📊 Data Visualization with Matplotlib and Seaborn\n",
    "\n",
    "This notebook covers advanced data visualization techniques using Python libraries: Matplotlib and Seaborn.\n",
    "\n",
    "We'll explore the `diamonds` dataset from Seaborn."
   ]
  },
  {
   "cell_type": "markdown",
   "id": "1921129c",
   "metadata": {},
   "source": [
    "Data repository for seaborn examples.\n",
    "\n",
    "https://github.com/mwaskom/seaborn-data"
   ]
  },
  {
   "cell_type": "code",
   "execution_count": null,
   "id": "3f473c55",
   "metadata": {},
   "outputs": [],
   "source": [
    "import pandas as pd\n",
    "import seaborn as sns\n",
    "import matplotlib.pyplot as plt\n",
    "\n",
    "# Load the dataset\n",
    "diamonds = sns.load_dataset('diamonds')\n",
    "diamonds.head()"
   ]
  },
  {
   "cell_type": "markdown",
   "id": "c428fcb3",
   "metadata": {},
   "source": [
    "## 📈 Distribution of Diamond Prices\n",
    "Let's look at the distribution of the `price` column using histogram and KDE."
   ]
  },
  {
   "cell_type": "code",
   "execution_count": null,
   "id": "2118a667",
   "metadata": {},
   "outputs": [],
   "source": [
    "plt.figure(figsize=(10,6))\n",
    "sns.histplot(diamonds['price'], kde=True, color='skyblue')\n",
    "plt.title('Distribution of Diamond Prices')\n",
    "plt.xlabel('Price')\n",
    "plt.ylabel('Frequency')\n",
    "plt.grid(True)\n",
    "plt.show()"
   ]
  },
  {
   "cell_type": "markdown",
   "id": "cc0a8271",
   "metadata": {},
   "source": [
    "What does it show?\n",
    "\n",
    "- The histogram groups prices into \"bins\" and counts the number of diamonds per price range.\n",
    "\n",
    "- The KDE (Kernel Density Estimation) line smooths the distribution to show general trends.\n",
    "\n",
    "Why is it useful?\n",
    "\n",
    "- You identify price biases (for example, many cheap diamonds and few very expensive ones).\n",
    "\n",
    "- It helps you detect outliers."
   ]
  },
  {
   "cell_type": "markdown",
   "id": "1eca52eb",
   "metadata": {},
   "source": [
    "## 📦 Boxplot of Price by Cut\n",
    "This shows how the price varies by the cut quality."
   ]
  },
  {
   "cell_type": "code",
   "execution_count": null,
   "id": "3836c9f6",
   "metadata": {},
   "outputs": [],
   "source": [
    "plt.figure(figsize=(10,6))\n",
    "sns.boxplot(x='cut', y='price', data=diamonds)\n",
    "plt.title('Diamond Price by Cut Quality')\n",
    "plt.xlabel('Cut')\n",
    "plt.ylabel('Price')\n",
    "plt.grid(True)\n",
    "plt.show()"
   ]
  },
  {
   "cell_type": "markdown",
   "id": "1d61ff92",
   "metadata": {},
   "source": [
    "What does it show?\n",
    "\n",
    "- Price comparison by cut quality.\n",
    "\n",
    "- Shows median, quartiles, and outliers by category.\n",
    "\n",
    "Why is it useful?\n",
    "\n",
    "- Detects whether cut quality affects price.\n",
    "\n",
    "- Identifies variability and the presence of outliers."
   ]
  },
  {
   "cell_type": "markdown",
   "id": "2219b0fb",
   "metadata": {},
   "source": [
    "## 🎯 Scatterplot: Carat vs Price\n",
    "Visualize the relationship between carat and price."
   ]
  },
  {
   "cell_type": "code",
   "execution_count": null,
   "id": "6b89a67d",
   "metadata": {},
   "outputs": [],
   "source": [
    "plt.figure(figsize=(10,6))\n",
    "sns.scatterplot(x='carat', y='price', hue='cut', data=diamonds, alpha=0.6)\n",
    "plt.title('Carat vs Price by Cut')\n",
    "plt.xlabel('Carat')\n",
    "plt.ylabel('Price')\n",
    "plt.grid(True)\n",
    "plt.legend(title='Cut')\n",
    "plt.show()"
   ]
  },
  {
   "cell_type": "markdown",
   "id": "57383bb8",
   "metadata": {},
   "source": [
    "## 🔥 Correlation Heatmap\n",
    "Explore correlations between numeric variables."
   ]
  },
  {
   "cell_type": "code",
   "execution_count": null,
   "id": "339866bd",
   "metadata": {},
   "outputs": [],
   "source": [
    "plt.figure(figsize=(8,6))\n",
    "corr = diamonds[['carat', 'depth', 'table', 'price', 'x', 'y', 'z']].corr()\n",
    "sns.heatmap(corr, annot=True, cmap='coolwarm', fmt='.2f')\n",
    "plt.title('Correlation Heatmap of Diamond Features')\n",
    "plt.show()"
   ]
  },
  {
   "cell_type": "markdown",
   "id": "818a97b0",
   "metadata": {},
   "source": [
    "## 📌 Histogram of carat values"
   ]
  },
  {
   "cell_type": "code",
   "execution_count": null,
   "id": "dbc687ba",
   "metadata": {},
   "outputs": [],
   "source": [
    "plt.figure(figsize=(10,6))\n",
    "sns.histplot(diamonds['carat'], bins=30, kde=True, color='green')\n",
    "plt.title('Distribution of Diamond Carat')\n",
    "plt.xlabel('Carat')\n",
    "plt.ylabel('Frequency')\n",
    "plt.grid(True)\n",
    "plt.show()"
   ]
  },
  {
   "cell_type": "markdown",
   "id": "7940d7a8",
   "metadata": {},
   "source": [
    "## 📌 Violinplot of price by color"
   ]
  },
  {
   "cell_type": "code",
   "execution_count": null,
   "id": "5432f993",
   "metadata": {},
   "outputs": [],
   "source": [
    "plt.figure(figsize=(10,10))\n",
    "sns.violinplot(x='color', y='price', data=diamonds, palette='muted')\n",
    "plt.title('Violinplot of Diamond Price by Color')\n",
    "plt.xlabel('Color Grade')\n",
    "plt.ylabel('Price ($)')\n",
    "plt.grid(True)\n",
    "plt.show()"
   ]
  },
  {
   "cell_type": "markdown",
   "id": "49ec4f87",
   "metadata": {},
   "source": [
    "## 📌 Bar chart of count of diamonds by clarity"
   ]
  },
  {
   "cell_type": "code",
   "execution_count": null,
   "id": "54164897",
   "metadata": {},
   "outputs": [],
   "source": [
    "plt.figure(figsize=(10,6))\n",
    "clarity_counts = diamonds['clarity'].value_counts().sort_index()\n",
    "sns.barplot(x=clarity_counts.index, y=clarity_counts.values, palette='deep')\n",
    "plt.title('Number of Diamonds by Clarity')\n",
    "plt.xlabel('Clarity Grade')\n",
    "plt.ylabel('Count')\n",
    "plt.grid(True)\n",
    "plt.show()"
   ]
  }
 ],
 "metadata": {
  "kernelspec": {
   "display_name": "Programa Certified AI Data Engineer",
   "language": "python",
   "name": "bsginstitute_312"
  },
  "language_info": {
   "codemirror_mode": {
    "name": "ipython",
    "version": 3
   },
   "file_extension": ".py",
   "mimetype": "text/x-python",
   "name": "python",
   "nbconvert_exporter": "python",
   "pygments_lexer": "ipython3",
   "version": "3.12.10"
  }
 },
 "nbformat": 4,
 "nbformat_minor": 5
}
